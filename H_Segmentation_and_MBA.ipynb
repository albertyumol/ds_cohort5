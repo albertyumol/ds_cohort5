{
 "cells": [
  {
   "cell_type": "markdown",
   "metadata": {},
   "source": [
    "## Answer/Execute the following statements:\n",
    "\n",
    "### RFM and K-Means\n",
    "1. Load the `new_df` from yesterday.\n",
    "2. Make a new df `history_df` where you place the RFM per CustomerID.\n",
    "3. For easier interpretation, convert the RFM values to log scale. (Hint: Use `.apply(math.log)`.\n",
    "3. Plot the 3 of them vs Amount.\n",
    "4. Create a 3D plot of RFM by running this (make sure to name your variables accordingly):"
   ]
  },
  {
   "cell_type": "code",
   "execution_count": null,
   "metadata": {},
   "outputs": [],
   "source": [
    "from mpl_toolkits.mplot3d import Axes3D\n",
    "\n",
    "fig = plt.figure(figsize=(15, 10))\n",
    "ax = fig.add_subplot(111, projection='3d')\n",
    "\n",
    "r = history_df.recency\n",
    "f = history_df.frequency\n",
    "m = history_df.monetary\n",
    "ax.scatter(r, f, m, s=5)\n",
    "\n",
    "ax.set_xlabel('Recency')\n",
    "ax.set_ylabel('Frequency')\n",
    "ax.set_zlabel('Monetary')\n",
    "\n",
    "plt.show()"
   ]
  },
  {
   "cell_type": "markdown",
   "metadata": {},
   "source": [
    "6. Write down your observations.\n",
    "7. Prepare the data for clustering by running this (make sure to name your variables accordingly):"
   ]
  },
  {
   "cell_type": "code",
   "execution_count": null,
   "metadata": {},
   "outputs": [],
   "source": [
    "from sklearn import preprocessing\n",
    "\n",
    "from sklearn.cluster import KMeans\n",
    "from sklearn.metrics import silhouette_samples, silhouette_score\n",
    "\n",
    "feature_vector = ['recency','frequency', 'monetary']\n",
    "X_subset = customer_history_df[feature_vector]\n",
    "scaler = preprocessing.StandardScaler().fit(X_subset)\n",
    "X_scaled = scaler.transform(X_subset)"
   ]
  },
  {
   "cell_type": "markdown",
   "metadata": {},
   "source": [
    "8. Try out 1 <= k <= 20. \n",
    "9. Validate whar the best k with elbow method, silhouette score, and Davies-Bouldin index.\n",
    "10. Write down your observations.\n",
    "11. If it is hard to decide for the best number of k, undo the log scaling and try clustering again.\n",
    "12. Determine what makes sense in the clustering, and decide what the best k is.\n",
    "13. To help you further, create a boxplot of clusters for each k for every RFM measure. The less the variance (or thickness of boxplot) the better.\n",
    "14. Also, explore on adding other freatures per customer such as Country, how long the customer has been a customer, etc."
   ]
  },
  {
   "cell_type": "markdown",
   "metadata": {
    "ExecuteTime": {
     "end_time": "2020-09-07T07:23:12.580934Z",
     "start_time": "2020-09-07T07:23:12.573715Z"
    }
   },
   "source": [
    "### Supplementing with Market Basket Analysis\n",
    "\n",
    "1. Run this code to generate an encoded item listing:"
   ]
  },
  {
   "cell_type": "code",
   "execution_count": null,
   "metadata": {},
   "outputs": [],
   "source": [
    "items = list(new_df.Description.unique())\n",
    "grouped = new_df.groupby('InvoiceNo')\n",
    "transaction_level = grouped.aggregate(lambda x: tuple(x)).reset_index()[['InvoiceNo','Description']]\n",
    "transaction_dict = {item:0 for item in items}\n",
    "output_dict = dict()\n",
    "temp = dict()\n",
    "for rec in transaction_level.to_dict('records'):\n",
    "    invoice_num = rec['InvoiceNo']\n",
    "    items_list = rec['Description']\n",
    "    transaction_dict = {item:0 for item in items}\n",
    "    transaction_dict.update({item:1 for item in items if item in items_list})\n",
    "    temp.update({invoice_num:transaction_dict})\n",
    "\n",
    "new = [v for k,v in temp.items()]\n",
    "transaction_df = pd.DataFrame(new)"
   ]
  },
  {
   "cell_type": "markdown",
   "metadata": {},
   "source": [
    "2. What can you say about the `transaction_df` DataFrame?\n",
    "3. Transpose the DataFrame and get only the 20 most products bought.\n",
    "4. Implement the Apriori and FP Growth Algorithms.\n",
    "5. Write down your observations."
   ]
  }
 ],
 "metadata": {
  "kernelspec": {
   "display_name": "Python 3",
   "language": "python",
   "name": "python3"
  },
  "language_info": {
   "codemirror_mode": {
    "name": "ipython",
    "version": 3
   },
   "file_extension": ".py",
   "mimetype": "text/x-python",
   "name": "python",
   "nbconvert_exporter": "python",
   "pygments_lexer": "ipython3",
   "version": "3.7.6"
  }
 },
 "nbformat": 4,
 "nbformat_minor": 4
}
