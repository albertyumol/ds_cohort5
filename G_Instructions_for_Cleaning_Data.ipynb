{
 "cells": [
  {
   "cell_type": "markdown",
   "metadata": {},
   "source": [
    "## Answer/Execute the following statements:\n",
    "\n",
    "1. Load data set C_Online_Retail.xlsx as df.\n",
    "2. Are there negative quantities and prices at same register?\n",
    "3. How many registers do we have where quantity is negative and prices is 0 or vice-versa.\n",
    "4. What is common in the invoices with negative quantity?\n",
    "5. How many registers do we have where UnitPrice is negative? And what are their CustomerIDs?\n",
    "6. Drop all the NaN in the CustomerID column.\n",
    "7. How many sales records do we have with Customer ID and zero in Unit Price?\n",
    "8. Look at the description and uniqueness of StockCode and Description by running this:"
   ]
  },
  {
   "cell_type": "code",
   "execution_count": null,
   "metadata": {},
   "outputs": [],
   "source": [
    "cat_des_df = df.groupby([\"StockCode\",\"Description\"]).count().reset_index()\n",
    "df[df['StockCode'] == cat_des_df.StockCode.value_counts()[cat_des_df.StockCode.value_counts()>1]\n",
    "      .reset_index()['index'][4]]['Description'].unique()"
   ]
  },
  {
   "cell_type": "markdown",
   "metadata": {},
   "source": [
    "9. What can you say about the uniqueness of the Description per StockCode?\n",
    "10. Run this code to make a table of unique Description per StockCode:"
   ]
  },
  {
   "cell_type": "code",
   "execution_count": null,
   "metadata": {},
   "outputs": [],
   "source": [
    "unique_desc = df[[\"StockCode\", \"Description\"]].groupby(by=[\"StockCode\"]).\\\n",
    "                apply(pd.DataFrame.mode).reset_index(drop=True)"
   ]
  },
  {
   "cell_type": "markdown",
   "metadata": {},
   "source": [
    "11. We will merge `unique_desc` with `df` to get the value of other columns using an SQL wrapper `pandassql`. To install, run:"
   ]
  },
  {
   "cell_type": "code",
   "execution_count": null,
   "metadata": {},
   "outputs": [],
   "source": [
    "!pip install pandasql"
   ]
  },
  {
   "cell_type": "markdown",
   "metadata": {},
   "source": [
    "12. Import the associated libraries and run the query:"
   ]
  },
  {
   "cell_type": "code",
   "execution_count": null,
   "metadata": {},
   "outputs": [],
   "source": [
    "from pandasql import sqldf\n",
    "\n",
    "pysqldf = lambda q: sqldf(q, globals())\n",
    "new_df = pd.DataFrame(pysqldf(\n",
    "    \"\"\"select df.InvoiceNo, \n",
    "        df.StockCode, \n",
    "        un.Description, \n",
    "        df.Quantity, \n",
    "        df.InvoiceDate,\n",
    "        df.UnitPrice, \n",
    "        df.CustomerID, \n",
    "        df.Country \n",
    "    from df as df \n",
    "        INNER JOIN unique_desc as un on df.StockCode = un.StockCode\n",
    "        \"\"\"))"
   ]
  },
  {
   "cell_type": "markdown",
   "metadata": {},
   "source": [
    "13. What is the dimensions of the `new_df`?\n",
    "14. Convert `InvoiceDate` column to datetime.\n",
    "15. Make a new column `Amount` by multiplying Quantity and UnitPrice.\n",
    "16. Convert `CustomerID` to integer.\n",
    "17. Make a barplot of the Amount of Sales per Country (don't forget the titles and labels).\n",
    "18. How many percent is from UK and oustide of UK.\n",
    "19. Who are the top 10 customers and what is their contribution (%) in sales and in quantity?\n",
    "20. What are the top 10 products and what is their contribution (%) in sales and in quantity?"
   ]
  }
 ],
 "metadata": {
  "kernelspec": {
   "display_name": "Python 3",
   "language": "python",
   "name": "python3"
  },
  "language_info": {
   "codemirror_mode": {
    "name": "ipython",
    "version": 3
   },
   "file_extension": ".py",
   "mimetype": "text/x-python",
   "name": "python",
   "nbconvert_exporter": "python",
   "pygments_lexer": "ipython3",
   "version": "3.7.6"
  }
 },
 "nbformat": 4,
 "nbformat_minor": 4
}
