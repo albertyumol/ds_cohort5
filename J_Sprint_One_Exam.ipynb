{
 "cells": [
  {
   "cell_type": "markdown",
   "metadata": {},
   "source": [
    "### 1) Mo' money...\n",
    "\n",
    "A cash drawer contains 160 bills, all 10s and 50s. The total value of the 10s and 50s is P1,760.\n",
    "\n",
    "How many of each type of bill are in the drawer? You can figure this out by trial and error (or by doing algebra with pencil and paper), but try to use loops and conditionals to check a plausible possibilities and stop when you find the correct one."
   ]
  },
  {
   "cell_type": "code",
   "execution_count": null,
   "metadata": {},
   "outputs": [],
   "source": []
  },
  {
   "cell_type": "markdown",
   "metadata": {},
   "source": [
    "### 2) FizzBuzz\n",
    "\n",
    "Write a short program that prints each number from 1 to 100 on a new line. \n",
    "\n",
    "- For each multiple of 3, print \"Fizz\" instead of the number. \n",
    "- For each multiple of 5, print \"Buzz\" instead of the number. \n",
    "- For numbers which are multiples of both 3 and 5, print \"FizzBuzz\" instead of the number."
   ]
  },
  {
   "cell_type": "code",
   "execution_count": null,
   "metadata": {
    "ExecuteTime": {
     "end_time": "2020-09-09T07:20:35.594870Z",
     "start_time": "2020-09-09T07:20:35.583961Z"
    }
   },
   "outputs": [],
   "source": []
  },
  {
   "cell_type": "markdown",
   "metadata": {},
   "source": [
    "### 3) Demographia\n",
    "\n",
    "Using `countries.csv` in S3 bucket:\n",
    "\n",
    "- Find the minimum and maximum of the 'life expectancy' for costal and landlocked countries.\n",
    "- How many coastal and landlocked countries are in each continent? Determine the mean deathrate for coastal and landlocked countries in each continent.\n",
    "- Create a new column measuring population density.  Determine the mean population density of all the countries.  Create a new column 'dense' that is True for countries with higher than average density and False for lower than average density.\n",
    "- For each category of 'dense' compute the mean birthrate and the difference between the maximal birthrate and the minimal birthrate."
   ]
  },
  {
   "cell_type": "code",
   "execution_count": null,
   "metadata": {},
   "outputs": [],
   "source": []
  }
 ],
 "metadata": {
  "kernelspec": {
   "display_name": "Python 3",
   "language": "python",
   "name": "python3"
  },
  "language_info": {
   "codemirror_mode": {
    "name": "ipython",
    "version": 3
   },
   "file_extension": ".py",
   "mimetype": "text/x-python",
   "name": "python",
   "nbconvert_exporter": "python",
   "pygments_lexer": "ipython3",
   "version": "3.7.6"
  }
 },
 "nbformat": 4,
 "nbformat_minor": 4
}
